{
  "nbformat": 4,
  "nbformat_minor": 0,
  "metadata": {
    "colab": {
      "provenance": [],
      "include_colab_link": true
    },
    "kernelspec": {
      "name": "python3",
      "display_name": "Python 3"
    },
    "language_info": {
      "name": "python"
    }
  },
  "cells": [
    {
      "cell_type": "markdown",
      "metadata": {
        "id": "view-in-github",
        "colab_type": "text"
      },
      "source": [
        "<a href=\"https://colab.research.google.com/github/marciapg/Analise-de-Churn/blob/main/Analise_de_Churn.ipynb\" target=\"_parent\"><img src=\"https://colab.research.google.com/assets/colab-badge.svg\" alt=\"Open In Colab\"/></a>"
      ]
    },
    {
      "cell_type": "markdown",
      "source": [
        "#Análise de base de dados. Interesse: Churn"
      ],
      "metadata": {
        "id": "6Bs0Wbg_QWXx"
      }
    },
    {
      "cell_type": "markdown",
      "source": [
        "##Importação de bibliotecas e dados"
      ],
      "metadata": {
        "id": "qFRMOCDGF7ne"
      }
    },
    {
      "cell_type": "code",
      "execution_count": 1,
      "metadata": {
        "id": "beYSIZMNPpu1"
      },
      "outputs": [],
      "source": [
        "import pandas as pd\n",
        "import matplotlib.pyplot as plt\n",
        "import seaborn as sns\n",
        "import numpy as np"
      ]
    },
    {
      "cell_type": "code",
      "source": [
        "#Importação dos dados\n",
        "data = pd.read_csv('base de dados.csv')\n",
        "data.shape"
      ],
      "metadata": {
        "colab": {
          "base_uri": "https://localhost:8080/"
        },
        "id": "eKvE242NUIMv",
        "outputId": "8e0d9218-9eaf-4f51-d2b7-4b3f996115db"
      },
      "execution_count": 2,
      "outputs": [
        {
          "output_type": "execute_result",
          "data": {
            "text/plain": [
              "(3333, 12)"
            ]
          },
          "metadata": {},
          "execution_count": 2
        }
      ]
    },
    {
      "cell_type": "code",
      "source": [
        "data.head(5)"
      ],
      "metadata": {
        "colab": {
          "base_uri": "https://localhost:8080/",
          "height": 206
        },
        "id": "JMt9dF8RRAIG",
        "outputId": "e48f4f18-9458-433e-c8b4-e988fcda642d"
      },
      "execution_count": 3,
      "outputs": [
        {
          "output_type": "execute_result",
          "data": {
            "text/plain": [
              "   time_active monthly_bill  max_fee  has_data_plan  data_usage  day_mins  \\\n",
              "0            1         73,9     9.25              1        2.19     208.0   \n",
              "1            1         73,7    11.63              1        2.27     183.1   \n",
              "2            1           67     8.64              1        2.70     146.6   \n",
              "3            1         61,5    14.83              0        0.25     196.1   \n",
              "4            1           43     7.59              0        0.00     175.2   \n",
              "\n",
              "   day_calls  age  plan  roam_mins  contract_renewal  churn  \n",
              "0        115   20     2        8.1                 1      0  \n",
              "1         95   20     0        8.4                 1      0  \n",
              "2         68   20     2       10.0                 1      0  \n",
              "3        107   20     0        7.0                 1      0  \n",
              "4         74   20     0        5.3                 1      0  "
            ],
            "text/html": [
              "\n",
              "  <div id=\"df-2777342a-1e85-472f-9c96-8b7bba9beb57\">\n",
              "    <div class=\"colab-df-container\">\n",
              "      <div>\n",
              "<style scoped>\n",
              "    .dataframe tbody tr th:only-of-type {\n",
              "        vertical-align: middle;\n",
              "    }\n",
              "\n",
              "    .dataframe tbody tr th {\n",
              "        vertical-align: top;\n",
              "    }\n",
              "\n",
              "    .dataframe thead th {\n",
              "        text-align: right;\n",
              "    }\n",
              "</style>\n",
              "<table border=\"1\" class=\"dataframe\">\n",
              "  <thead>\n",
              "    <tr style=\"text-align: right;\">\n",
              "      <th></th>\n",
              "      <th>time_active</th>\n",
              "      <th>monthly_bill</th>\n",
              "      <th>max_fee</th>\n",
              "      <th>has_data_plan</th>\n",
              "      <th>data_usage</th>\n",
              "      <th>day_mins</th>\n",
              "      <th>day_calls</th>\n",
              "      <th>age</th>\n",
              "      <th>plan</th>\n",
              "      <th>roam_mins</th>\n",
              "      <th>contract_renewal</th>\n",
              "      <th>churn</th>\n",
              "    </tr>\n",
              "  </thead>\n",
              "  <tbody>\n",
              "    <tr>\n",
              "      <th>0</th>\n",
              "      <td>1</td>\n",
              "      <td>73,9</td>\n",
              "      <td>9.25</td>\n",
              "      <td>1</td>\n",
              "      <td>2.19</td>\n",
              "      <td>208.0</td>\n",
              "      <td>115</td>\n",
              "      <td>20</td>\n",
              "      <td>2</td>\n",
              "      <td>8.1</td>\n",
              "      <td>1</td>\n",
              "      <td>0</td>\n",
              "    </tr>\n",
              "    <tr>\n",
              "      <th>1</th>\n",
              "      <td>1</td>\n",
              "      <td>73,7</td>\n",
              "      <td>11.63</td>\n",
              "      <td>1</td>\n",
              "      <td>2.27</td>\n",
              "      <td>183.1</td>\n",
              "      <td>95</td>\n",
              "      <td>20</td>\n",
              "      <td>0</td>\n",
              "      <td>8.4</td>\n",
              "      <td>1</td>\n",
              "      <td>0</td>\n",
              "    </tr>\n",
              "    <tr>\n",
              "      <th>2</th>\n",
              "      <td>1</td>\n",
              "      <td>67</td>\n",
              "      <td>8.64</td>\n",
              "      <td>1</td>\n",
              "      <td>2.70</td>\n",
              "      <td>146.6</td>\n",
              "      <td>68</td>\n",
              "      <td>20</td>\n",
              "      <td>2</td>\n",
              "      <td>10.0</td>\n",
              "      <td>1</td>\n",
              "      <td>0</td>\n",
              "    </tr>\n",
              "    <tr>\n",
              "      <th>3</th>\n",
              "      <td>1</td>\n",
              "      <td>61,5</td>\n",
              "      <td>14.83</td>\n",
              "      <td>0</td>\n",
              "      <td>0.25</td>\n",
              "      <td>196.1</td>\n",
              "      <td>107</td>\n",
              "      <td>20</td>\n",
              "      <td>0</td>\n",
              "      <td>7.0</td>\n",
              "      <td>1</td>\n",
              "      <td>0</td>\n",
              "    </tr>\n",
              "    <tr>\n",
              "      <th>4</th>\n",
              "      <td>1</td>\n",
              "      <td>43</td>\n",
              "      <td>7.59</td>\n",
              "      <td>0</td>\n",
              "      <td>0.00</td>\n",
              "      <td>175.2</td>\n",
              "      <td>74</td>\n",
              "      <td>20</td>\n",
              "      <td>0</td>\n",
              "      <td>5.3</td>\n",
              "      <td>1</td>\n",
              "      <td>0</td>\n",
              "    </tr>\n",
              "  </tbody>\n",
              "</table>\n",
              "</div>\n",
              "      <button class=\"colab-df-convert\" onclick=\"convertToInteractive('df-2777342a-1e85-472f-9c96-8b7bba9beb57')\"\n",
              "              title=\"Convert this dataframe to an interactive table.\"\n",
              "              style=\"display:none;\">\n",
              "        \n",
              "  <svg xmlns=\"http://www.w3.org/2000/svg\" height=\"24px\"viewBox=\"0 0 24 24\"\n",
              "       width=\"24px\">\n",
              "    <path d=\"M0 0h24v24H0V0z\" fill=\"none\"/>\n",
              "    <path d=\"M18.56 5.44l.94 2.06.94-2.06 2.06-.94-2.06-.94-.94-2.06-.94 2.06-2.06.94zm-11 1L8.5 8.5l.94-2.06 2.06-.94-2.06-.94L8.5 2.5l-.94 2.06-2.06.94zm10 10l.94 2.06.94-2.06 2.06-.94-2.06-.94-.94-2.06-.94 2.06-2.06.94z\"/><path d=\"M17.41 7.96l-1.37-1.37c-.4-.4-.92-.59-1.43-.59-.52 0-1.04.2-1.43.59L10.3 9.45l-7.72 7.72c-.78.78-.78 2.05 0 2.83L4 21.41c.39.39.9.59 1.41.59.51 0 1.02-.2 1.41-.59l7.78-7.78 2.81-2.81c.8-.78.8-2.07 0-2.86zM5.41 20L4 18.59l7.72-7.72 1.47 1.35L5.41 20z\"/>\n",
              "  </svg>\n",
              "      </button>\n",
              "      \n",
              "  <style>\n",
              "    .colab-df-container {\n",
              "      display:flex;\n",
              "      flex-wrap:wrap;\n",
              "      gap: 12px;\n",
              "    }\n",
              "\n",
              "    .colab-df-convert {\n",
              "      background-color: #E8F0FE;\n",
              "      border: none;\n",
              "      border-radius: 50%;\n",
              "      cursor: pointer;\n",
              "      display: none;\n",
              "      fill: #1967D2;\n",
              "      height: 32px;\n",
              "      padding: 0 0 0 0;\n",
              "      width: 32px;\n",
              "    }\n",
              "\n",
              "    .colab-df-convert:hover {\n",
              "      background-color: #E2EBFA;\n",
              "      box-shadow: 0px 1px 2px rgba(60, 64, 67, 0.3), 0px 1px 3px 1px rgba(60, 64, 67, 0.15);\n",
              "      fill: #174EA6;\n",
              "    }\n",
              "\n",
              "    [theme=dark] .colab-df-convert {\n",
              "      background-color: #3B4455;\n",
              "      fill: #D2E3FC;\n",
              "    }\n",
              "\n",
              "    [theme=dark] .colab-df-convert:hover {\n",
              "      background-color: #434B5C;\n",
              "      box-shadow: 0px 1px 3px 1px rgba(0, 0, 0, 0.15);\n",
              "      filter: drop-shadow(0px 1px 2px rgba(0, 0, 0, 0.3));\n",
              "      fill: #FFFFFF;\n",
              "    }\n",
              "  </style>\n",
              "\n",
              "      <script>\n",
              "        const buttonEl =\n",
              "          document.querySelector('#df-2777342a-1e85-472f-9c96-8b7bba9beb57 button.colab-df-convert');\n",
              "        buttonEl.style.display =\n",
              "          google.colab.kernel.accessAllowed ? 'block' : 'none';\n",
              "\n",
              "        async function convertToInteractive(key) {\n",
              "          const element = document.querySelector('#df-2777342a-1e85-472f-9c96-8b7bba9beb57');\n",
              "          const dataTable =\n",
              "            await google.colab.kernel.invokeFunction('convertToInteractive',\n",
              "                                                     [key], {});\n",
              "          if (!dataTable) return;\n",
              "\n",
              "          const docLinkHtml = 'Like what you see? Visit the ' +\n",
              "            '<a target=\"_blank\" href=https://colab.research.google.com/notebooks/data_table.ipynb>data table notebook</a>'\n",
              "            + ' to learn more about interactive tables.';\n",
              "          element.innerHTML = '';\n",
              "          dataTable['output_type'] = 'display_data';\n",
              "          await google.colab.output.renderOutput(dataTable, element);\n",
              "          const docLink = document.createElement('div');\n",
              "          docLink.innerHTML = docLinkHtml;\n",
              "          element.appendChild(docLink);\n",
              "        }\n",
              "      </script>\n",
              "    </div>\n",
              "  </div>\n",
              "  "
            ]
          },
          "metadata": {},
          "execution_count": 3
        }
      ]
    },
    {
      "cell_type": "markdown",
      "source": [
        "##Análise descritiva e exploratória dos dados"
      ],
      "metadata": {
        "id": "IwFO9GcUF0sX"
      }
    },
    {
      "cell_type": "code",
      "source": [
        "#Verificação dos tipos dos dados\n",
        "data.dtypes"
      ],
      "metadata": {
        "colab": {
          "base_uri": "https://localhost:8080/"
        },
        "id": "KBGJ73IcQ72i",
        "outputId": "f18f8bc5-df3b-42d1-8b4a-fa25528c1b05"
      },
      "execution_count": 4,
      "outputs": [
        {
          "output_type": "execute_result",
          "data": {
            "text/plain": [
              "time_active           int64\n",
              "monthly_bill         object\n",
              "max_fee             float64\n",
              "has_data_plan         int64\n",
              "data_usage          float64\n",
              "day_mins            float64\n",
              "day_calls             int64\n",
              "age                   int64\n",
              "plan                  int64\n",
              "roam_mins           float64\n",
              "contract_renewal      int64\n",
              "churn                 int64\n",
              "dtype: object"
            ]
          },
          "metadata": {},
          "execution_count": 4
        }
      ]
    },
    {
      "cell_type": "code",
      "source": [
        "#Transformação dos dados da coluna monthly_bill de string para float\n",
        "data.monthly_bill = data.monthly_bill.apply(lambda x: float(x.replace(\",\", \".\")))\n",
        "data.dtypes"
      ],
      "metadata": {
        "colab": {
          "base_uri": "https://localhost:8080/"
        },
        "id": "R14H4cE5RLbb",
        "outputId": "196d1828-fe01-450f-9726-9c27a026e0b1"
      },
      "execution_count": 5,
      "outputs": [
        {
          "output_type": "execute_result",
          "data": {
            "text/plain": [
              "time_active           int64\n",
              "monthly_bill        float64\n",
              "max_fee             float64\n",
              "has_data_plan         int64\n",
              "data_usage          float64\n",
              "day_mins            float64\n",
              "day_calls             int64\n",
              "age                   int64\n",
              "plan                  int64\n",
              "roam_mins           float64\n",
              "contract_renewal      int64\n",
              "churn                 int64\n",
              "dtype: object"
            ]
          },
          "metadata": {},
          "execution_count": 5
        }
      ]
    },
    {
      "cell_type": "code",
      "source": [
        "#Verificação de dados faltantes\n",
        "data.isnull().sum()/len(data)"
      ],
      "metadata": {
        "colab": {
          "base_uri": "https://localhost:8080/"
        },
        "id": "IUkkNhMhRg13",
        "outputId": "3ca7defd-7c1f-4635-d546-b2ed2a8f2c36"
      },
      "execution_count": 6,
      "outputs": [
        {
          "output_type": "execute_result",
          "data": {
            "text/plain": [
              "time_active         0.0\n",
              "monthly_bill        0.0\n",
              "max_fee             0.0\n",
              "has_data_plan       0.0\n",
              "data_usage          0.0\n",
              "day_mins            0.0\n",
              "day_calls           0.0\n",
              "age                 0.0\n",
              "plan                0.0\n",
              "roam_mins           0.0\n",
              "contract_renewal    0.0\n",
              "churn               0.0\n",
              "dtype: float64"
            ]
          },
          "metadata": {},
          "execution_count": 6
        }
      ]
    },
    {
      "cell_type": "markdown",
      "source": [
        "######A coluna 'monthly_bill' estava com os dados em formato string. Não há nenhum dado nulo na tabela."
      ],
      "metadata": {
        "id": "wJkVrK4jOSpB"
      }
    },
    {
      "cell_type": "markdown",
      "source": [
        "###Gráficos descritivos"
      ],
      "metadata": {
        "id": "kJ1bSw4HQglX"
      }
    },
    {
      "cell_type": "code",
      "source": [
        "#Histogramas\n",
        "fig, axs = plt.subplots(3,4,figsize= (12,8))\n",
        "fig.tight_layout(pad=3.0)\n",
        "colunas = data.columns\n",
        "for i in range(3):\n",
        "  for j in range(4):\n",
        "    axs[i][j].hist(data[colunas[i*4+j]], bins = 30)\n",
        "    axs[i][j].set_title(colunas[i*4+j])"
      ],
      "metadata": {
        "colab": {
          "base_uri": "https://localhost:8080/",
          "height": 559
        },
        "id": "zTRr_3EpR1mz",
        "outputId": "6eeb2d63-3bc8-46aa-e8a2-29c80fdcab87"
      },
      "execution_count": 7,
      "outputs": [
        {
          "output_type": "display_data",
          "data": {
            "text/plain": [
              "<Figure size 864x576 with 12 Axes>"
            ],
            "image/png": "[encoded data removed]"
          },
          "metadata": {
            "needs_background": "light"
          }
        }
      ]
    },
    {
      "cell_type": "code",
      "source": [
        "fig, axs = plt.subplots(3,4,figsize= (12,8))\n",
        "fig.tight_layout(pad=3.0)\n",
        "colunas = data.columns\n",
        "for i in range(3):\n",
        "  for j in range(4):\n",
        "    axs[i][j].boxplot(data[colunas[i*4+j]])\n",
        "    axs[i][j].set_title(colunas[i*4+j])"
      ],
      "metadata": {
        "colab": {
          "base_uri": "https://localhost:8080/",
          "height": 559
        },
        "id": "k_dAncW3Xn8Q",
        "outputId": "c9c17a55-95ef-4465-f251-5bbf7cae351b"
      },
      "execution_count": 8,
      "outputs": [
        {
          "output_type": "display_data",
          "data": {
            "text/plain": [
              "<Figure size 864x576 with 12 Axes>"
            ],
            "image/png": "[encoded data removed]"
          },
          "metadata": {
            "needs_background": "light"
          }
        }
      ]
    },
    {
      "cell_type": "code",
      "source": [
        "fig, axs = plt.subplots(3,4,figsize= (12,8))\n",
        "fig.tight_layout(pad=3.0)\n",
        "colunas = data.columns\n",
        "for i in range(3):\n",
        "  for j in range(4):\n",
        "    axs[i][j].scatter(data['churn'],data[colunas[i*4+j]])\n",
        "    b, a = np.polyfit(data['churn'],data[colunas[i*4+j]], deg=1)\n",
        "    xseq = np.linspace(0, 1, num=100)\n",
        "    axs[i][j].plot(xseq, a + b * xseq, color=\"k\", lw=0.5);\n",
        "    axs[i][j].set_title(colunas[i*4+j])"
      ],
      "metadata": {
        "colab": {
          "base_uri": "https://localhost:8080/",
          "height": 559
        },
        "id": "v2XOlTe6CjLm",
        "outputId": "f48dc526-f55c-4afa-dd21-c002a950d67c"
      },
      "execution_count": 9,
      "outputs": [
        {
          "output_type": "display_data",
          "data": {
            "text/plain": [
              "<Figure size 864x576 with 12 Axes>"
            ],
            "image/png": "[encoded data removed]"
          },
          "metadata": {
            "needs_background": "light"
          }
        }
      ]
    },
    {
      "cell_type": "markdown",
      "source": [
        "Pelos histogramas e boxplots, os dados parecem fazer sentido. Pelos gráficos de dispersão, percebemos que não há correlação muito forte entre as variáveis e o churn de forma isolada, a não ser na variável 'contract_renewal', que parece mais um pouco mais acentuada."
      ],
      "metadata": {
        "id": "4O9nTxZ3OnYw"
      }
    },
    {
      "cell_type": "markdown",
      "source": [
        "###Resumos das variáveis"
      ],
      "metadata": {
        "id": "3W9H7q_jQmBR"
      }
    },
    {
      "cell_type": "code",
      "source": [
        "for i in colunas:\n",
        "  print(data[i].describe())"
      ],
      "metadata": {
        "colab": {
          "base_uri": "https://localhost:8080/"
        },
        "id": "x6YTAX_lWzfg",
        "outputId": "ffc34b91-ca45-46f1-bca8-ba60d93dffeb"
      },
      "execution_count": 10,
      "outputs": [
        {
          "output_type": "stream",
          "name": "stdout",
          "text": [
            "count    3333.000000\n",
            "mean      101.064806\n",
            "std        39.822106\n",
            "min         1.000000\n",
            "25%        74.000000\n",
            "50%       101.000000\n",
            "75%       127.000000\n",
            "max       243.000000\n",
            "Name: time_active, dtype: float64\n",
            "count    3333.000000\n",
            "mean       56.305161\n",
            "std        16.426032\n",
            "min        14.000000\n",
            "25%        45.000000\n",
            "50%        53.500000\n",
            "75%        66.200000\n",
            "max       111.300000\n",
            "Name: monthly_bill, dtype: float64\n",
            "count    3333.000000\n",
            "mean       10.051488\n",
            "std         2.535712\n",
            "min         0.000000\n",
            "25%         8.330000\n",
            "50%        10.070000\n",
            "75%        11.770000\n",
            "max        18.190000\n",
            "Name: max_fee, dtype: float64\n",
            "count    3333.000000\n",
            "mean        0.276628\n",
            "std         0.447398\n",
            "min         0.000000\n",
            "25%         0.000000\n",
            "50%         0.000000\n",
            "75%         1.000000\n",
            "max         1.000000\n",
            "Name: has_data_plan, dtype: float64\n",
            "count    3333.000000\n",
            "mean        0.816475\n",
            "std         1.272668\n",
            "min         0.000000\n",
            "25%         0.000000\n",
            "50%         0.000000\n",
            "75%         1.780000\n",
            "max         5.400000\n",
            "Name: data_usage, dtype: float64\n",
            "count    3333.000000\n",
            "mean      179.775098\n",
            "std        54.467389\n",
            "min         0.000000\n",
            "25%       143.700000\n",
            "50%       179.400000\n",
            "75%       216.400000\n",
            "max       350.800000\n",
            "Name: day_mins, dtype: float64\n",
            "count    3333.000000\n",
            "mean      100.435644\n",
            "std        20.069084\n",
            "min         0.000000\n",
            "25%        87.000000\n",
            "50%       101.000000\n",
            "75%       114.000000\n",
            "max       165.000000\n",
            "Name: day_calls, dtype: float64\n",
            "count    3333.000000\n",
            "mean       34.688569\n",
            "std         7.640888\n",
            "min        20.000000\n",
            "25%        29.000000\n",
            "50%        33.000000\n",
            "75%        39.000000\n",
            "max        85.000000\n",
            "Name: age, dtype: float64\n",
            "count    3333.000000\n",
            "mean        2.022502\n",
            "std         1.210363\n",
            "min         0.000000\n",
            "25%         1.000000\n",
            "50%         2.000000\n",
            "75%         3.000000\n",
            "max         4.000000\n",
            "Name: plan, dtype: float64\n",
            "count    3333.000000\n",
            "mean       10.237294\n",
            "std         2.791840\n",
            "min         0.000000\n",
            "25%         8.500000\n",
            "50%        10.300000\n",
            "75%        12.100000\n",
            "max        20.000000\n",
            "Name: roam_mins, dtype: float64\n",
            "count    3333.000000\n",
            "mean        0.903090\n",
            "std         0.295879\n",
            "min         0.000000\n",
            "25%         1.000000\n",
            "50%         1.000000\n",
            "75%         1.000000\n",
            "max         1.000000\n",
            "Name: contract_renewal, dtype: float64\n",
            "count    3333.000000\n",
            "mean        0.144914\n",
            "std         0.352067\n",
            "min         0.000000\n",
            "25%         0.000000\n",
            "50%         0.000000\n",
            "75%         0.000000\n",
            "max         1.000000\n",
            "Name: churn, dtype: float64\n"
          ]
        }
      ]
    },
    {
      "cell_type": "markdown",
      "source": [
        "######Pelos resumos dos dados, não foi verificada nenhuma anomalia. "
      ],
      "metadata": {
        "id": "yG66VSLiPQs4"
      }
    },
    {
      "cell_type": "markdown",
      "source": [
        "###Correlação"
      ],
      "metadata": {
        "id": "8Tpl5lqCQqqw"
      }
    },
    {
      "cell_type": "code",
      "source": [
        "plt.figure(figsize=(10,10))\n",
        "sns.heatmap(data.corr())\n",
        "plt.show()"
      ],
      "metadata": {
        "colab": {
          "base_uri": "https://localhost:8080/",
          "height": 672
        },
        "id": "vpJz-85GR32b",
        "outputId": "1e4d1b92-cda2-4e5b-8d3b-9e8495ec755a"
      },
      "execution_count": 11,
      "outputs": [
        {
          "output_type": "display_data",
          "data": {
            "text/plain": [
              "<Figure size 720x720 with 2 Axes>"
            ],
            "image/png": "[encoded data removed]"
          },
          "metadata": {
            "needs_background": "light"
          }
        }
      ]
    },
    {
      "cell_type": "code",
      "source": [
        "data.corr()"
      ],
      "metadata": {
        "colab": {
          "base_uri": "https://localhost:8080/",
          "height": 489
        },
        "id": "0ZA8cGlCIFVu",
        "outputId": "40781cbf-7c1c-4a92-94ad-51264391d674"
      },
      "execution_count": 12,
      "outputs": [
        {
          "output_type": "execute_result",
          "data": {
            "text/plain": [
              "                  time_active  monthly_bill   max_fee  has_data_plan  \\\n",
              "time_active          1.000000      0.012581 -0.006749       0.002918   \n",
              "monthly_bill         0.012581      1.000000  0.281766       0.737490   \n",
              "max_fee             -0.006749      0.281766  1.000000       0.021526   \n",
              "has_data_plan        0.002918      0.737490  0.021526       1.000000   \n",
              "data_usage           0.014391      0.781660  0.019637       0.945982   \n",
              "day_mins             0.006216      0.567968  0.007038      -0.001684   \n",
              "day_calls            0.038470     -0.007963 -0.021449      -0.011086   \n",
              "age                  0.758364     -0.544159 -0.188872      -0.355811   \n",
              "plan                 0.025213     -0.021644  0.020201      -0.030896   \n",
              "roam_mins            0.009514      0.117433 -0.011023      -0.001318   \n",
              "contract_renewal    -0.024735     -0.047291 -0.019105      -0.006006   \n",
              "churn                0.016541      0.072313  0.092812      -0.102148   \n",
              "\n",
              "                  data_usage  day_mins  day_calls       age      plan  \\\n",
              "time_active         0.014391  0.006216   0.038470  0.758364  0.025213   \n",
              "monthly_bill        0.781660  0.567968  -0.007963 -0.544159 -0.021644   \n",
              "max_fee             0.019637  0.007038  -0.021449 -0.188872  0.020201   \n",
              "has_data_plan       0.945982 -0.001684  -0.011086 -0.355811 -0.030896   \n",
              "data_usage          1.000000  0.003176  -0.007962 -0.359555 -0.022937   \n",
              "day_mins            0.003176  1.000000   0.006750 -0.382602 -0.017017   \n",
              "day_calls          -0.007962  0.006750   1.000000  0.029857 -0.024089   \n",
              "age                -0.359555 -0.382602   0.029857  1.000000  0.029802   \n",
              "plan               -0.022937 -0.017017  -0.024089  0.029802  1.000000   \n",
              "roam_mins           0.162746 -0.010155   0.021565 -0.030669  0.015374   \n",
              "contract_renewal   -0.019223 -0.049396  -0.003755  0.007355  0.011957   \n",
              "churn              -0.087195  0.205151   0.018459 -0.023047  0.006431   \n",
              "\n",
              "                  roam_mins  contract_renewal     churn  \n",
              "time_active        0.009514         -0.024735  0.016541  \n",
              "monthly_bill       0.117433         -0.047291  0.072313  \n",
              "max_fee           -0.011023         -0.019105  0.092812  \n",
              "has_data_plan     -0.001318         -0.006006 -0.102148  \n",
              "data_usage         0.162746         -0.019223 -0.087195  \n",
              "day_mins          -0.010155         -0.049396  0.205151  \n",
              "day_calls          0.021565         -0.003755  0.018459  \n",
              "age               -0.030669          0.007355 -0.023047  \n",
              "plan               0.015374          0.011957  0.006431  \n",
              "roam_mins          1.000000         -0.045871  0.068239  \n",
              "contract_renewal  -0.045871          1.000000 -0.259852  \n",
              "churn              0.068239         -0.259852  1.000000  "
            ],
            "text/html": [
              "\n",
              "  <div id=\"df-c693f408-134b-46a9-925b-9e4bed634e1a\">\n",
              "    <div class=\"colab-df-container\">\n",
              "      <div>\n",
              "<style scoped>\n",
              "    .dataframe tbody tr th:only-of-type {\n",
              "        vertical-align: middle;\n",
              "    }\n",
              "\n",
              "    .dataframe tbody tr th {\n",
              "        vertical-align: top;\n",
              "    }\n",
              "\n",
              "    .dataframe thead th {\n",
              "        text-align: right;\n",
              "    }\n",
              "</style>\n",
              "<table border=\"1\" class=\"dataframe\">\n",
              "  <thead>\n",
              "    <tr style=\"text-align: right;\">\n",
              "      <th></th>\n",
              "      <th>time_active</th>\n",
              "      <th>monthly_bill</th>\n",
              "      <th>max_fee</th>\n",
              "      <th>has_data_plan</th>\n",
              "      <th>data_usage</th>\n",
              "      <th>day_mins</th>\n",
              "      <th>day_calls</th>\n",
              "      <th>age</th>\n",
              "      <th>plan</th>\n",
              "      <th>roam_mins</th>\n",
              "      <th>contract_renewal</th>\n",
              "      <th>churn</th>\n",
              "    </tr>\n",
              "  </thead>\n",
              "  <tbody>\n",
              "    <tr>\n",
              "      <th>time_active</th>\n",
              "      <td>1.000000</td>\n",
              "      <td>0.012581</td>\n",
              "      <td>-0.006749</td>\n",
              "      <td>0.002918</td>\n",
              "      <td>0.014391</td>\n",
              "      <td>0.006216</td>\n",
              "      <td>0.038470</td>\n",
              "      <td>0.758364</td>\n",
              "      <td>0.025213</td>\n",
              "      <td>0.009514</td>\n",
              "      <td>-0.024735</td>\n",
              "      <td>0.016541</td>\n",
              "    </tr>\n",
              "    <tr>\n",
              "      <th>monthly_bill</th>\n",
              "      <td>0.012581</td>\n",
              "      <td>1.000000</td>\n",
              "      <td>0.281766</td>\n",
              "      <td>0.737490</td>\n",
              "      <td>0.781660</td>\n",
              "      <td>0.567968</td>\n",
              "      <td>-0.007963</td>\n",
              "      <td>-0.544159</td>\n",
              "      <td>-0.021644</td>\n",
              "      <td>0.117433</td>\n",
              "      <td>-0.047291</td>\n",
              "      <td>0.072313</td>\n",
              "    </tr>\n",
              "    <tr>\n",
              "      <th>max_fee</th>\n",
              "      <td>-0.006749</td>\n",
              "      <td>0.281766</td>\n",
              "      <td>1.000000</td>\n",
              "      <td>0.021526</td>\n",
              "      <td>0.019637</td>\n",
              "      <td>0.007038</td>\n",
              "      <td>-0.021449</td>\n",
              "      <td>-0.188872</td>\n",
              "      <td>0.020201</td>\n",
              "      <td>-0.011023</td>\n",
              "      <td>-0.019105</td>\n",
              "      <td>0.092812</td>\n",
              "    </tr>\n",
              "    <tr>\n",
              "      <th>has_data_plan</th>\n",
              "      <td>0.002918</td>\n",
              "      <td>0.737490</td>\n",
              "      <td>0.021526</td>\n",
              "      <td>1.000000</td>\n",
              "      <td>0.945982</td>\n",
              "      <td>-0.001684</td>\n",
              "      <td>-0.011086</td>\n",
              "      <td>-0.355811</td>\n",
              "      <td>-0.030896</td>\n",
              "      <td>-0.001318</td>\n",
              "      <td>-0.006006</td>\n",
              "      <td>-0.102148</td>\n",
              "    </tr>\n",
              "    <tr>\n",
              "      <th>data_usage</th>\n",
              "      <td>0.014391</td>\n",
              "      <td>0.781660</td>\n",
              "      <td>0.019637</td>\n",
              "      <td>0.945982</td>\n",
              "      <td>1.000000</td>\n",
              "      <td>0.003176</td>\n",
              "      <td>-0.007962</td>\n",
              "      <td>-0.359555</td>\n",
              "      <td>-0.022937</td>\n",
              "      <td>0.162746</td>\n",
              "      <td>-0.019223</td>\n",
              "      <td>-0.087195</td>\n",
              "    </tr>\n",
              "    <tr>\n",
              "      <th>day_mins</th>\n",
              "      <td>0.006216</td>\n",
              "      <td>0.567968</td>\n",
              "      <td>0.007038</td>\n",
              "      <td>-0.001684</td>\n",
              "      <td>0.003176</td>\n",
              "      <td>1.000000</td>\n",
              "      <td>0.006750</td>\n",
              "      <td>-0.382602</td>\n",
              "      <td>-0.017017</td>\n",
              "      <td>-0.010155</td>\n",
              "      <td>-0.049396</td>\n",
              "      <td>0.205151</td>\n",
              "    </tr>\n",
              "    <tr>\n",
              "      <th>day_calls</th>\n",
              "      <td>0.038470</td>\n",
              "      <td>-0.007963</td>\n",
              "      <td>-0.021449</td>\n",
              "      <td>-0.011086</td>\n",
              "      <td>-0.007962</td>\n",
              "      <td>0.006750</td>\n",
              "      <td>1.000000</td>\n",
              "      <td>0.029857</td>\n",
              "      <td>-0.024089</td>\n",
              "      <td>0.021565</td>\n",
              "      <td>-0.003755</td>\n",
              "      <td>0.018459</td>\n",
              "    </tr>\n",
              "    <tr>\n",
              "      <th>age</th>\n",
              "      <td>0.758364</td>\n",
              "      <td>-0.544159</td>\n",
              "      <td>-0.188872</td>\n",
              "      <td>-0.355811</td>\n",
              "      <td>-0.359555</td>\n",
              "      <td>-0.382602</td>\n",
              "      <td>0.029857</td>\n",
              "      <td>1.000000</td>\n",
              "      <td>0.029802</td>\n",
              "      <td>-0.030669</td>\n",
              "      <td>0.007355</td>\n",
              "      <td>-0.023047</td>\n",
              "    </tr>\n",
              "    <tr>\n",
              "      <th>plan</th>\n",
              "      <td>0.025213</td>\n",
              "      <td>-0.021644</td>\n",
              "      <td>0.020201</td>\n",
              "      <td>-0.030896</td>\n",
              "      <td>-0.022937</td>\n",
              "      <td>-0.017017</td>\n",
              "      <td>-0.024089</td>\n",
              "      <td>0.029802</td>\n",
              "      <td>1.000000</td>\n",
              "      <td>0.015374</td>\n",
              "      <td>0.011957</td>\n",
              "      <td>0.006431</td>\n",
              "    </tr>\n",
              "    <tr>\n",
              "      <th>roam_mins</th>\n",
              "      <td>0.009514</td>\n",
              "      <td>0.117433</td>\n",
              "      <td>-0.011023</td>\n",
              "      <td>-0.001318</td>\n",
              "      <td>0.162746</td>\n",
              "      <td>-0.010155</td>\n",
              "      <td>0.021565</td>\n",
              "      <td>-0.030669</td>\n",
              "      <td>0.015374</td>\n",
              "      <td>1.000000</td>\n",
              "      <td>-0.045871</td>\n",
              "      <td>0.068239</td>\n",
              "    </tr>\n",
              "    <tr>\n",
              "      <th>contract_renewal</th>\n",
              "      <td>-0.024735</td>\n",
              "      <td>-0.047291</td>\n",
              "      <td>-0.019105</td>\n",
              "      <td>-0.006006</td>\n",
              "      <td>-0.019223</td>\n",
              "      <td>-0.049396</td>\n",
              "      <td>-0.003755</td>\n",
              "      <td>0.007355</td>\n",
              "      <td>0.011957</td>\n",
              "      <td>-0.045871</td>\n",
              "      <td>1.000000</td>\n",
              "      <td>-0.259852</td>\n",
              "    </tr>\n",
              "    <tr>\n",
              "      <th>churn</th>\n",
              "      <td>0.016541</td>\n",
              "      <td>0.072313</td>\n",
              "      <td>0.092812</td>\n",
              "      <td>-0.102148</td>\n",
              "      <td>-0.087195</td>\n",
              "      <td>0.205151</td>\n",
              "      <td>0.018459</td>\n",
              "      <td>-0.023047</td>\n",
              "      <td>0.006431</td>\n",
              "      <td>0.068239</td>\n",
              "      <td>-0.259852</td>\n",
              "      <td>1.000000</td>\n",
              "    </tr>\n",
              "  </tbody>\n",
              "</table>\n",
              "</div>\n",
              "      <button class=\"colab-df-convert\" onclick=\"convertToInteractive('df-c693f408-134b-46a9-925b-9e4bed634e1a')\"\n",
              "              title=\"Convert this dataframe to an interactive table.\"\n",
              "              style=\"display:none;\">\n",
              "        \n",
              "  <svg xmlns=\"http://www.w3.org/2000/svg\" height=\"24px\"viewBox=\"0 0 24 24\"\n",
              "       width=\"24px\">\n",
              "    <path d=\"M0 0h24v24H0V0z\" fill=\"none\"/>\n",
              "    <path d=\"M18.56 5.44l.94 2.06.94-2.06 2.06-.94-2.06-.94-.94-2.06-.94 2.06-2.06.94zm-11 1L8.5 8.5l.94-2.06 2.06-.94-2.06-.94L8.5 2.5l-.94 2.06-2.06.94zm10 10l.94 2.06.94-2.06 2.06-.94-2.06-.94-.94-2.06-.94 2.06-2.06.94z\"/><path d=\"M17.41 7.96l-1.37-1.37c-.4-.4-.92-.59-1.43-.59-.52 0-1.04.2-1.43.59L10.3 9.45l-7.72 7.72c-.78.78-.78 2.05 0 2.83L4 21.41c.39.39.9.59 1.41.59.51 0 1.02-.2 1.41-.59l7.78-7.78 2.81-2.81c.8-.78.8-2.07 0-2.86zM5.41 20L4 18.59l7.72-7.72 1.47 1.35L5.41 20z\"/>\n",
              "  </svg>\n",
              "      </button>\n",
              "      \n",
              "  <style>\n",
              "    .colab-df-container {\n",
              "      display:flex;\n",
              "      flex-wrap:wrap;\n",
              "      gap: 12px;\n",
              "    }\n",
              "\n",
              "    .colab-df-convert {\n",
              "      background-color: #E8F0FE;\n",
              "      border: none;\n",
              "      border-radius: 50%;\n",
              "      cursor: pointer;\n",
              "      display: none;\n",
              "      fill: #1967D2;\n",
              "      height: 32px;\n",
              "      padding: 0 0 0 0;\n",
              "      width: 32px;\n",
              "    }\n",
              "\n",
              "    .colab-df-convert:hover {\n",
              "      background-color: #E2EBFA;\n",
              "      box-shadow: 0px 1px 2px rgba(60, 64, 67, 0.3), 0px 1px 3px 1px rgba(60, 64, 67, 0.15);\n",
              "      fill: #174EA6;\n",
              "    }\n",
              "\n",
              "    [theme=dark] .colab-df-convert {\n",
              "      background-color: #3B4455;\n",
              "      fill: #D2E3FC;\n",
              "    }\n",
              "\n",
              "    [theme=dark] .colab-df-convert:hover {\n",
              "      background-color: #434B5C;\n",
              "      box-shadow: 0px 1px 3px 1px rgba(0, 0, 0, 0.15);\n",
              "      filter: drop-shadow(0px 1px 2px rgba(0, 0, 0, 0.3));\n",
              "      fill: #FFFFFF;\n",
              "    }\n",
              "  </style>\n",
              "\n",
              "      <script>\n",
              "        const buttonEl =\n",
              "          document.querySelector('#df-c693f408-134b-46a9-925b-9e4bed634e1a button.colab-df-convert');\n",
              "        buttonEl.style.display =\n",
              "          google.colab.kernel.accessAllowed ? 'block' : 'none';\n",
              "\n",
              "        async function convertToInteractive(key) {\n",
              "          const element = document.querySelector('#df-c693f408-134b-46a9-925b-9e4bed634e1a');\n",
              "          const dataTable =\n",
              "            await google.colab.kernel.invokeFunction('convertToInteractive',\n",
              "                                                     [key], {});\n",
              "          if (!dataTable) return;\n",
              "\n",
              "          const docLinkHtml = 'Like what you see? Visit the ' +\n",
              "            '<a target=\"_blank\" href=https://colab.research.google.com/notebooks/data_table.ipynb>data table notebook</a>'\n",
              "            + ' to learn more about interactive tables.';\n",
              "          element.innerHTML = '';\n",
              "          dataTable['output_type'] = 'display_data';\n",
              "          await google.colab.output.renderOutput(dataTable, element);\n",
              "          const docLink = document.createElement('div');\n",
              "          docLink.innerHTML = docLinkHtml;\n",
              "          element.appendChild(docLink);\n",
              "        }\n",
              "      </script>\n",
              "    </div>\n",
              "  </div>\n",
              "  "
            ]
          },
          "metadata": {},
          "execution_count": 12
        }
      ]
    },
    {
      "cell_type": "markdown",
      "source": [
        "##Modelo de classificação"
      ],
      "metadata": {
        "id": "-EZSI2FkGEFu"
      }
    },
    {
      "cell_type": "markdown",
      "source": [
        "###Normalização dos dados"
      ],
      "metadata": {
        "id": "Jz8txemnQv-g"
      }
    },
    {
      "cell_type": "code",
      "source": [
        "from sklearn.preprocessing import MinMaxScaler\n",
        "norm = MinMaxScaler()\n",
        "dtnorm = norm.fit_transform(data)\n",
        "datanorm = pd.DataFrame(dtnorm, columns = data.columns)\n",
        "datanorm.to_csv('dados_normalizados.csv')"
      ],
      "metadata": {
        "id": "7s0VUqw1e4er"
      },
      "execution_count": 13,
      "outputs": []
    },
    {
      "cell_type": "code",
      "source": [
        "#Separação das variáveis explicativas e resposta\n",
        "y = datanorm['churn']\n",
        "x = datanorm.drop(columns=['churn'],axis=1)"
      ],
      "metadata": {
        "id": "_CAtoOgfd79b"
      },
      "execution_count": 14,
      "outputs": []
    },
    {
      "cell_type": "code",
      "source": [
        "#Verificação de proporção dos dados de resposta\n",
        "#Está desbalanceado\n",
        "y.value_counts()"
      ],
      "metadata": {
        "colab": {
          "base_uri": "https://localhost:8080/"
        },
        "id": "YDtS_huFeDnZ",
        "outputId": "768a170b-9b51-4fa8-8154-505b4521f7b4"
      },
      "execution_count": 15,
      "outputs": [
        {
          "output_type": "execute_result",
          "data": {
            "text/plain": [
              "0.0    2850\n",
              "1.0     483\n",
              "Name: churn, dtype: int64"
            ]
          },
          "metadata": {},
          "execution_count": 15
        }
      ]
    },
    {
      "cell_type": "code",
      "source": [
        "x.head(3)"
      ],
      "metadata": {
        "colab": {
          "base_uri": "https://localhost:8080/",
          "height": 143
        },
        "id": "Txyyu4WbeGFR",
        "outputId": "796c9e74-79cf-4ff6-be31-0baec8a2dd75"
      },
      "execution_count": 16,
      "outputs": [
        {
          "output_type": "execute_result",
          "data": {
            "text/plain": [
              "   time_active  monthly_bill   max_fee  has_data_plan  data_usage  day_mins  \\\n",
              "0          0.0      0.615622  0.508521            1.0    0.405556  0.592930   \n",
              "1          0.0      0.613566  0.639362            1.0    0.420370  0.521950   \n",
              "2          0.0      0.544707  0.474986            1.0    0.500000  0.417902   \n",
              "\n",
              "   day_calls  age  plan  roam_mins  contract_renewal  \n",
              "0   0.696970  0.0   0.5      0.405               1.0  \n",
              "1   0.575758  0.0   0.0      0.420               1.0  \n",
              "2   0.412121  0.0   0.5      0.500               1.0  "
            ],
            "text/html": [
              "\n",
              "  <div id=\"df-e3c3f06c-6a40-4468-a4ec-9875d3e4b5f7\">\n",
              "    <div class=\"colab-df-container\">\n",
              "      <div>\n",
              "<style scoped>\n",
              "    .dataframe tbody tr th:only-of-type {\n",
              "        vertical-align: middle;\n",
              "    }\n",
              "\n",
              "    .dataframe tbody tr th {\n",
              "        vertical-align: top;\n",
              "    }\n",
              "\n",
              "    .dataframe thead th {\n",
              "        text-align: right;\n",
              "    }\n",
              "</style>\n",
              "<table border=\"1\" class=\"dataframe\">\n",
              "  <thead>\n",
              "    <tr style=\"text-align: right;\">\n",
              "      <th></th>\n",
              "      <th>time_active</th>\n",
              "      <th>monthly_bill</th>\n",
              "      <th>max_fee</th>\n",
              "      <th>has_data_plan</th>\n",
              "      <th>data_usage</th>\n",
              "      <th>day_mins</th>\n",
              "      <th>day_calls</th>\n",
              "      <th>age</th>\n",
              "      <th>plan</th>\n",
              "      <th>roam_mins</th>\n",
              "      <th>contract_renewal</th>\n",
              "    </tr>\n",
              "  </thead>\n",
              "  <tbody>\n",
              "    <tr>\n",
              "      <th>0</th>\n",
              "      <td>0.0</td>\n",
              "      <td>0.615622</td>\n",
              "      <td>0.508521</td>\n",
              "      <td>1.0</td>\n",
              "      <td>0.405556</td>\n",
              "      <td>0.592930</td>\n",
              "      <td>0.696970</td>\n",
              "      <td>0.0</td>\n",
              "      <td>0.5</td>\n",
              "      <td>0.405</td>\n",
              "      <td>1.0</td>\n",
              "    </tr>\n",
              "    <tr>\n",
              "      <th>1</th>\n",
              "      <td>0.0</td>\n",
              "      <td>0.613566</td>\n",
              "      <td>0.639362</td>\n",
              "      <td>1.0</td>\n",
              "      <td>0.420370</td>\n",
              "      <td>0.521950</td>\n",
              "      <td>0.575758</td>\n",
              "      <td>0.0</td>\n",
              "      <td>0.0</td>\n",
              "      <td>0.420</td>\n",
              "      <td>1.0</td>\n",
              "    </tr>\n",
              "    <tr>\n",
              "      <th>2</th>\n",
              "      <td>0.0</td>\n",
              "      <td>0.544707</td>\n",
              "      <td>0.474986</td>\n",
              "      <td>1.0</td>\n",
              "      <td>0.500000</td>\n",
              "      <td>0.417902</td>\n",
              "      <td>0.412121</td>\n",
              "      <td>0.0</td>\n",
              "      <td>0.5</td>\n",
              "      <td>0.500</td>\n",
              "      <td>1.0</td>\n",
              "    </tr>\n",
              "  </tbody>\n",
              "</table>\n",
              "</div>\n",
              "      <button class=\"colab-df-convert\" onclick=\"convertToInteractive('df-e3c3f06c-6a40-4468-a4ec-9875d3e4b5f7')\"\n",
              "              title=\"Convert this dataframe to an interactive table.\"\n",
              "              style=\"display:none;\">\n",
              "        \n",
              "  <svg xmlns=\"http://www.w3.org/2000/svg\" height=\"24px\"viewBox=\"0 0 24 24\"\n",
              "       width=\"24px\">\n",
              "    <path d=\"M0 0h24v24H0V0z\" fill=\"none\"/>\n",
              "    <path d=\"M18.56 5.44l.94 2.06.94-2.06 2.06-.94-2.06-.94-.94-2.06-.94 2.06-2.06.94zm-11 1L8.5 8.5l.94-2.06 2.06-.94-2.06-.94L8.5 2.5l-.94 2.06-2.06.94zm10 10l.94 2.06.94-2.06 2.06-.94-2.06-.94-.94-2.06-.94 2.06-2.06.94z\"/><path d=\"M17.41 7.96l-1.37-1.37c-.4-.4-.92-.59-1.43-.59-.52 0-1.04.2-1.43.59L10.3 9.45l-7.72 7.72c-.78.78-.78 2.05 0 2.83L4 21.41c.39.39.9.59 1.41.59.51 0 1.02-.2 1.41-.59l7.78-7.78 2.81-2.81c.8-.78.8-2.07 0-2.86zM5.41 20L4 18.59l7.72-7.72 1.47 1.35L5.41 20z\"/>\n",
              "  </svg>\n",
              "      </button>\n",
              "      \n",
              "  <style>\n",
              "    .colab-df-container {\n",
              "      display:flex;\n",
              "      flex-wrap:wrap;\n",
              "      gap: 12px;\n",
              "    }\n",
              "\n",
              "    .colab-df-convert {\n",
              "      background-color: #E8F0FE;\n",
              "      border: none;\n",
              "      border-radius: 50%;\n",
              "      cursor: pointer;\n",
              "      display: none;\n",
              "      fill: #1967D2;\n",
              "      height: 32px;\n",
              "      padding: 0 0 0 0;\n",
              "      width: 32px;\n",
              "    }\n",
              "\n",
              "    .colab-df-convert:hover {\n",
              "      background-color: #E2EBFA;\n",
              "      box-shadow: 0px 1px 2px rgba(60, 64, 67, 0.3), 0px 1px 3px 1px rgba(60, 64, 67, 0.15);\n",
              "      fill: #174EA6;\n",
              "    }\n",
              "\n",
              "    [theme=dark] .colab-df-convert {\n",
              "      background-color: #3B4455;\n",
              "      fill: #D2E3FC;\n",
              "    }\n",
              "\n",
              "    [theme=dark] .colab-df-convert:hover {\n",
              "      background-color: #434B5C;\n",
              "      box-shadow: 0px 1px 3px 1px rgba(0, 0, 0, 0.15);\n",
              "      filter: drop-shadow(0px 1px 2px rgba(0, 0, 0, 0.3));\n",
              "      fill: #FFFFFF;\n",
              "    }\n",
              "  </style>\n",
              "\n",
              "      <script>\n",
              "        const buttonEl =\n",
              "          document.querySelector('#df-e3c3f06c-6a40-4468-a4ec-9875d3e4b5f7 button.colab-df-convert');\n",
              "        buttonEl.style.display =\n",
              "          google.colab.kernel.accessAllowed ? 'block' : 'none';\n",
              "\n",
              "        async function convertToInteractive(key) {\n",
              "          const element = document.querySelector('#df-e3c3f06c-6a40-4468-a4ec-9875d3e4b5f7');\n",
              "          const dataTable =\n",
              "            await google.colab.kernel.invokeFunction('convertToInteractive',\n",
              "                                                     [key], {});\n",
              "          if (!dataTable) return;\n",
              "\n",
              "          const docLinkHtml = 'Like what you see? Visit the ' +\n",
              "            '<a target=\"_blank\" href=https://colab.research.google.com/notebooks/data_table.ipynb>data table notebook</a>'\n",
              "            + ' to learn more about interactive tables.';\n",
              "          element.innerHTML = '';\n",
              "          dataTable['output_type'] = 'display_data';\n",
              "          await google.colab.output.renderOutput(dataTable, element);\n",
              "          const docLink = document.createElement('div');\n",
              "          docLink.innerHTML = docLinkHtml;\n",
              "          element.appendChild(docLink);\n",
              "        }\n",
              "      </script>\n",
              "    </div>\n",
              "  </div>\n",
              "  "
            ]
          },
          "metadata": {},
          "execution_count": 16
        }
      ]
    },
    {
      "cell_type": "markdown",
      "source": [
        "###Verificação das variáveis que mais contribuem para explicar o churn"
      ],
      "metadata": {
        "id": "BW9F-gFIQ0GQ"
      }
    },
    {
      "cell_type": "code",
      "source": [
        "from sklearn.feature_selection import SelectKBest\n",
        "from sklearn.feature_selection import f_classif\n",
        "algo = SelectKBest(score_func=f_classif, k=\"all\")\n",
        "a = algo.fit_transform(x,y)\n",
        "algo.scores_"
      ],
      "metadata": {
        "colab": {
          "base_uri": "https://localhost:8080/"
        },
        "id": "Es8bzDwHcx_q",
        "outputId": "068c05d5-cec8-4991-dd5d-8cacbb931ecc"
      },
      "execution_count": 17,
      "outputs": [
        {
          "output_type": "execute_result",
          "data": {
            "text/plain": [
              "array([9.11598199e-01, 1.75097868e+01, 2.89430416e+01, 3.51229436e+01,\n",
              "       2.55192209e+01, 1.46350785e+02, 1.13541243e+00, 1.77022034e+00,\n",
              "       1.37776550e-01, 1.55834680e+01, 2.41206004e+02])"
            ]
          },
          "metadata": {},
          "execution_count": 17
        }
      ]
    },
    {
      "cell_type": "code",
      "source": [
        "algo.feature_names_in_"
      ],
      "metadata": {
        "colab": {
          "base_uri": "https://localhost:8080/"
        },
        "id": "VUgfrqQOdylT",
        "outputId": "d62a2ef3-ba39-4519-ca11-a36a7f5e16eb"
      },
      "execution_count": 18,
      "outputs": [
        {
          "output_type": "execute_result",
          "data": {
            "text/plain": [
              "array(['time_active', 'monthly_bill', 'max_fee', 'has_data_plan',\n",
              "       'data_usage', 'day_mins', 'day_calls', 'age', 'plan', 'roam_mins',\n",
              "       'contract_renewal'], dtype=object)"
            ]
          },
          "metadata": {},
          "execution_count": 18
        }
      ]
    },
    {
      "cell_type": "markdown",
      "source": [
        "###Contribuição das variáveis para diferenciar os valores de churn, por score e correlação\n",
        "######1: 'contract_renewal': score=241.20, corr=-0.25\n",
        "######2: 'day_mins': score=146.35, corr=0.20\n",
        "######3: 'has_data_plan': score=35.12, corr=-0.10\n",
        "######4: 'max_fee': score=28.94, corr=0.09\n",
        "######5: 'data_usage': score=25.51, corr=-0.08\n",
        "######6: 'monthly_bill': score=17.50, corr=0.07\n",
        "######7: 'roam_mins': score=15.58, corr=0.06\n",
        "######8: 'age': score=1.77, corr=-0.02\n",
        "######9: 'day_calls': score=1.13, corr=0.01\n",
        "######10: 'time_active': score=0.91, corr=0.01\n",
        "######11: 'plan': score=0.13, corr=0.00\n"
      ],
      "metadata": {
        "id": "PDVuq_6BNZSr"
      }
    },
    {
      "cell_type": "markdown",
      "source": [
        "######Pelos valores, percebemos que as correlações são baixas, sendo a maior, entre a variável 'contract_renewal' e 'churn', -0.25."
      ],
      "metadata": {
        "id": "4rsJN4XmPd0Q"
      }
    },
    {
      "cell_type": "markdown",
      "source": [
        "###Modelo 1 de classificação usando todas as variáveis\n",
        "######Neste caso, a opção foi pelo modelo de Random Forest, por já ter tido bons resultados com ele anteriormente. O ideal seria testar outros também."
      ],
      "metadata": {
        "id": "bBZM2zl3Q9B_"
      }
    },
    {
      "cell_type": "code",
      "source": [
        "from sklearn.ensemble import RandomForestClassifier\n",
        "from sklearn.model_selection import cross_val_score\n",
        "from sklearn.model_selection import StratifiedKFold\n",
        "kfold = StratifiedKFold(n_splits=5)\n",
        "from sklearn.model_selection import RandomizedSearchCV"
      ],
      "metadata": {
        "id": "Fynv3SwlFQLV"
      },
      "execution_count": 19,
      "outputs": []
    },
    {
      "cell_type": "code",
      "source": [
        "#Testagem de hiperparâmetros do modelo\n",
        "min_samples_split = [2,3,4,5,7,9]\n",
        "max_depth = [9,11,13,15,17]\n",
        "min_samples_leaf = [2,3,4,5]\n",
        "valores = {'min_samples_split':min_samples_split, 'max_depth':max_depth, 'min_samples_leaf':min_samples_leaf}\n",
        "\n",
        "modelo = RandomForestClassifier(n_estimators=50, n_jobs=-1)\n",
        "\n",
        "search = RandomizedSearchCV(estimator=modelo,param_distributions=valores, cv=3, n_iter=50, n_jobs=-1)\n",
        "search.fit(x,y)\n",
        "print(search.best_score_, search.best_estimator_.min_samples_split, search.best_estimator_.max_depth, search.best_estimator_.min_samples_leaf)"
      ],
      "metadata": {
        "colab": {
          "base_uri": "https://localhost:8080/"
        },
        "id": "bu8l872oFn5u",
        "outputId": "00d7c556-e14b-4de7-b0b3-b68d129f3a76"
      },
      "execution_count": 20,
      "outputs": [
        {
          "output_type": "stream",
          "name": "stdout",
          "text": [
            "0.9114911491149115 5 17 3\n"
          ]
        }
      ]
    },
    {
      "cell_type": "code",
      "source": [
        "#A partir dos hiperparâmetros escolhidos, criação e testagem do modelo\n",
        "modelo = RandomForestClassifier(n_estimators=50, n_jobs=-1, min_samples_split=5, max_depth=11, min_samples_leaf=2)\n",
        "from sklearn.model_selection import train_test_split\n",
        "x_treino, x_teste, y_treino, y_teste = train_test_split(x,y,test_size=0.3)\n",
        "modelo.fit(x_treino, y_treino)\n",
        "accuracy = modelo.score(x_teste, y_teste)\n",
        "accuracy"
      ],
      "metadata": {
        "colab": {
          "base_uri": "https://localhost:8080/"
        },
        "id": "UAvPXvnIgjke",
        "outputId": "c77ef821-5f5a-4282-c855-bb1aefc29de6"
      },
      "execution_count": 21,
      "outputs": [
        {
          "output_type": "execute_result",
          "data": {
            "text/plain": [
              "0.907"
            ]
          },
          "metadata": {},
          "execution_count": 21
        }
      ]
    },
    {
      "cell_type": "markdown",
      "source": [
        "O modelo utilizado alcançou 0.917 de acurácia, mesmo as correlações tendo valores baixos. "
      ],
      "metadata": {
        "id": "NEBQjN3ORIvA"
      }
    },
    {
      "cell_type": "markdown",
      "source": [
        "###Modelo 2 de classificação usando apenas as variáveis de maior correlação\n",
        "####Abaixo, foi utilizado um modelo com os mesmos hiperparâmetros, mas apenas as 4 principais variáveis explicativas (as de valores f e correlação mais altos). "
      ],
      "metadata": {
        "id": "xLtV45WkSWma"
      }
    },
    {
      "cell_type": "code",
      "source": [
        "x2 = x[['contract_renewal','day_mins','has_data_plan', 'max_fee']]"
      ],
      "metadata": {
        "id": "2rBpyo3qAtLQ"
      },
      "execution_count": 22,
      "outputs": []
    },
    {
      "cell_type": "code",
      "source": [
        "modelo2 = RandomForestClassifier(n_estimators=50, n_jobs=-1, min_samples_split=5, max_depth=11, min_samples_leaf=2)\n",
        "x2_treino, x2_teste, y_treino, y_teste = train_test_split(x2,y,test_size=0.3)\n",
        "modelo2.fit(x2_treino, y_treino)\n",
        "accuracy = modelo2.score(x2_teste, y_teste)\n",
        "accuracy"
      ],
      "metadata": {
        "colab": {
          "base_uri": "https://localhost:8080/"
        },
        "id": "FRX2EaDFBxnQ",
        "outputId": "da06cfe6-f86e-4b60-e531-3a3337fc4468"
      },
      "execution_count": 23,
      "outputs": [
        {
          "output_type": "execute_result",
          "data": {
            "text/plain": [
              "0.901"
            ]
          },
          "metadata": {},
          "execution_count": 23
        }
      ]
    },
    {
      "cell_type": "markdown",
      "source": [
        "A acurácia foi de 0.882, valor um pouco abaixo do resultado com todas as 10 variáveis."
      ],
      "metadata": {
        "id": "STeD2dZ4SvGh"
      }
    },
    {
      "cell_type": "markdown",
      "source": [
        "###Matriz de confusão do Modelo 1"
      ],
      "metadata": {
        "id": "8TtpNYMmGqIO"
      }
    },
    {
      "cell_type": "code",
      "source": [
        "#Matriz de confusão\n",
        "from sklearn.metrics import confusion_matrix\n",
        "predicao = modelo.predict(x_teste)\n",
        "matriz = confusion_matrix(y_teste, predicao)\n",
        "matriz"
      ],
      "metadata": {
        "colab": {
          "base_uri": "https://localhost:8080/"
        },
        "id": "tupHnLdf_bcI",
        "outputId": "da1dd686-6662-4560-ab14-a5c790b777c0"
      },
      "execution_count": 24,
      "outputs": [
        {
          "output_type": "execute_result",
          "data": {
            "text/plain": [
              "array([[795,  64],\n",
              "       [133,   8]])"
            ]
          },
          "metadata": {},
          "execution_count": 24
        }
      ]
    },
    {
      "cell_type": "markdown",
      "source": [
        "Pela matriz de confusão, percebemos que o modelo classificou muito mais em apenas uma das opções, já que a proporção dos dados de resposta estão desbalanceadas.\n",
        "Assim, classificando a maioria como 'não churn', ele acerta muito e a classificação não tem confiabilidade.\n",
        "\n",
        "Para resolver isso, vamos balancear a quantidade de observações"
      ],
      "metadata": {
        "id": "ReTppKoCBK8o"
      }
    },
    {
      "cell_type": "markdown",
      "source": [
        "###Balanceamento das observações"
      ],
      "metadata": {
        "id": "1NJbzfqYG2c_"
      }
    },
    {
      "cell_type": "code",
      "source": [
        "y.value_counts()"
      ],
      "metadata": {
        "colab": {
          "base_uri": "https://localhost:8080/"
        },
        "id": "GSaFNhYe_crg",
        "outputId": "0c1c1bc3-7a3c-4b42-d056-40b4bdced37a"
      },
      "execution_count": 25,
      "outputs": [
        {
          "output_type": "execute_result",
          "data": {
            "text/plain": [
              "0.0    2850\n",
              "1.0     483\n",
              "Name: churn, dtype: int64"
            ]
          },
          "metadata": {},
          "execution_count": 25
        }
      ]
    },
    {
      "cell_type": "code",
      "source": [
        "#Reduzir as observações de 'não churn' de forma aleatória\n",
        "df_class_0 = datanorm[datanorm['churn'] == 0]\n",
        "df_class_1 = datanorm[datanorm['churn'] == 1]\n",
        "df_class_0_under = df_class_0.sample(483)\n",
        "df_test_under = pd.concat([df_class_0_under, df_class_1], axis=0)"
      ],
      "metadata": {
        "id": "2nA-Tka9Ak9E"
      },
      "execution_count": 26,
      "outputs": []
    },
    {
      "cell_type": "code",
      "source": [
        "#Separação das variáveis explicativas e resposta\n",
        "y_under = df_test_under['churn']\n",
        "x_under = df_test_under.drop(columns=['churn'],axis=1)"
      ],
      "metadata": {
        "id": "s7MH4_pDAw2Q"
      },
      "execution_count": 27,
      "outputs": []
    },
    {
      "cell_type": "code",
      "source": [
        "#dados balanceados\n",
        "y_under.value_counts()"
      ],
      "metadata": {
        "colab": {
          "base_uri": "https://localhost:8080/"
        },
        "id": "-4hK5LExDByT",
        "outputId": "29ac889b-774c-40f4-81f4-92487f6c9001"
      },
      "execution_count": 28,
      "outputs": [
        {
          "output_type": "execute_result",
          "data": {
            "text/plain": [
              "0.0    483\n",
              "1.0    483\n",
              "Name: churn, dtype: int64"
            ]
          },
          "metadata": {},
          "execution_count": 28
        }
      ]
    },
    {
      "cell_type": "markdown",
      "source": [
        "###Modelo 3 de classificação usando os dados balanceados"
      ],
      "metadata": {
        "id": "oZoMTApYDokH"
      }
    },
    {
      "cell_type": "code",
      "source": [
        "from sklearn.ensemble import RandomForestClassifier\n",
        "from sklearn.model_selection import cross_val_score\n",
        "from sklearn.model_selection import StratifiedKFold\n",
        "kfold = StratifiedKFold(n_splits=5)\n",
        "from sklearn.model_selection import RandomizedSearchCV"
      ],
      "metadata": {
        "id": "qPJEs9paDEPK"
      },
      "execution_count": 29,
      "outputs": []
    },
    {
      "cell_type": "code",
      "source": [
        "#Testagem de hiperparâmetros do modelo\n",
        "min_samples_split = [2,3,4,5,7,9,11,13,15,17]\n",
        "max_depth = [9,11,13,15,17]\n",
        "min_samples_leaf = [2,3,4,5]\n",
        "valores = {'min_samples_split':min_samples_split, 'max_depth':max_depth, 'min_samples_leaf':min_samples_leaf}\n",
        "\n",
        "modelo = RandomForestClassifier(n_estimators=50, n_jobs=-1)\n",
        "\n",
        "search = RandomizedSearchCV(estimator=modelo,param_distributions=valores, cv=3, n_iter=50, n_jobs=-1)\n",
        "search.fit(x_under,y_under)\n",
        "print(search.best_score_, search.best_estimator_.min_samples_split, search.best_estimator_.max_depth, search.best_estimator_.min_samples_leaf)"
      ],
      "metadata": {
        "colab": {
          "base_uri": "https://localhost:8080/"
        },
        "id": "pU1eJdUqDx-4",
        "outputId": "595e8112-27f5-4b5f-a200-e3fab291c575"
      },
      "execution_count": 30,
      "outputs": [
        {
          "output_type": "stream",
          "name": "stdout",
          "text": [
            "0.5372670807453416 17 15 5\n"
          ]
        }
      ]
    },
    {
      "cell_type": "code",
      "source": [
        "#A partir dos hiperparâmetros escolhidos, criação e testagem do modelo\n",
        "modelo3 = RandomForestClassifier(n_estimators=50, n_jobs=-1, min_samples_split=9, max_depth=9, min_samples_leaf=5)\n",
        "from sklearn.model_selection import train_test_split\n",
        "x_under_treino, x_under_teste, y_under_treino, y_under_teste = train_test_split(x_under,y_under,test_size=0.3)\n",
        "modelo3.fit(x_under_treino, y_under_treino)\n",
        "accuracy = modelo3.score(x_under_teste, y_under_teste)\n",
        "accuracy"
      ],
      "metadata": {
        "colab": {
          "base_uri": "https://localhost:8080/"
        },
        "id": "cK21orw_Dy5i",
        "outputId": "33fd7d83-1a1c-476e-f27e-0f515344d833"
      },
      "execution_count": 31,
      "outputs": [
        {
          "output_type": "execute_result",
          "data": {
            "text/plain": [
              "0.7862068965517242"
            ]
          },
          "metadata": {},
          "execution_count": 31
        }
      ]
    },
    {
      "cell_type": "code",
      "source": [
        "#Matriz de confusão\n",
        "from sklearn.metrics import confusion_matrix\n",
        "predicao = modelo3.predict(x_under_teste)\n",
        "matriz = confusion_matrix(y_under_teste, predicao)\n",
        "matriz"
      ],
      "metadata": {
        "colab": {
          "base_uri": "https://localhost:8080/"
        },
        "id": "BRImNC2sEMfb",
        "outputId": "96ef936d-c3c4-486d-9233-67c90bf6add7"
      },
      "execution_count": 32,
      "outputs": [
        {
          "output_type": "execute_result",
          "data": {
            "text/plain": [
              "array([[136,  15],\n",
              "       [ 47,  92]])"
            ]
          },
          "metadata": {},
          "execution_count": 32
        }
      ]
    },
    {
      "cell_type": "markdown",
      "source": [
        "Estimando os valores de churn, com os dados balanceados, a acurácia foi de 0.76, e, pela matriz de confusão, é possível concluir que os valores preditos estão dentro de uma boa estimativa."
      ],
      "metadata": {
        "id": "rbHzdJRRFV2-"
      }
    }
  ]
}